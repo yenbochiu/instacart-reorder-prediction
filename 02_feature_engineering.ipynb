{
 "cells": [
  {
   "cell_type": "markdown",
   "id": "6a1c4496-c806-4126-b403-c9ccaff6d440",
   "metadata": {},
   "source": [
    "# Feature Engineering"
   ]
  },
  {
   "cell_type": "markdown",
   "id": "6df517b6-6967-4c34-9665-6e7c62f72cb8",
   "metadata": {},
   "source": [
    "## Import Libraries and Files"
   ]
  },
  {
   "cell_type": "code",
   "execution_count": 1,
   "id": "a93f57ae-edd0-43ce-b56b-60d1c2d05de9",
   "metadata": {},
   "outputs": [],
   "source": [
    "import pandas as pd\n",
    "import numpy as np\n",
    "import seaborn as sns\n",
    "import matplotlib.pyplot as plt"
   ]
  },
  {
   "cell_type": "code",
   "execution_count": 2,
   "id": "04472498-db1c-4c83-9942-a82e02188b51",
   "metadata": {},
   "outputs": [],
   "source": [
    "aisle = pd.read_csv(\"/Users/yen/Desktop/instacart-reorder-prediction/data/aisles.csv\")\n",
    "department = pd.read_csv(\"/Users/yen/Desktop/instacart-reorder-prediction/data/departments.csv\")\n",
    "order = pd.read_csv(\"/Users/yen/Desktop/instacart-reorder-prediction/data/orders.csv\")\n",
    "product = pd.read_csv(\"/Users/yen/Desktop/instacart-reorder-prediction/data/products.csv\")\n",
    "prior_order = pd.read_csv(\"/Users/yen/Desktop/instacart-reorder-prediction/data/order_products__prior.csv\")\n",
    "train_order = pd.read_csv(\"/Users/yen/Desktop/instacart-reorder-prediction/data/order_products__train.csv\")"
   ]
  },
  {
   "cell_type": "markdown",
   "id": "83fe4011-e024-44b2-a94d-fa2793150df7",
   "metadata": {},
   "source": [
    "## Problem Definition"
   ]
  },
  {
   "cell_type": "markdown",
   "id": "4be69141-d791-4b2e-a388-de39f50bc62a",
   "metadata": {},
   "source": [
    "Build a model for the prediction of a customer's willingness to buy a certain product\n",
    "- Unit: each customer x product history (e.g. if user1 buy product A again)\n",
    "- Target: 'reordered == 1' means the user had bought the product again; 'reordered == 0' means the user did not buy the product again"
   ]
  },
  {
   "cell_type": "markdown",
   "id": "0d4f95f1-a0d8-400b-8204-78847d2814e6",
   "metadata": {},
   "source": [
    "## Transcation History for Each Product"
   ]
  },
  {
   "cell_type": "code",
   "execution_count": 3,
   "id": "a32de142-55da-44c6-b288-8916113bca8c",
   "metadata": {},
   "outputs": [],
   "source": [
    "# total count of the product being bought\n",
    "prod_orders = prior_order.groupby('product_id')['reordered'].agg(['count', 'sum']).reset_index()\n",
    "prod_orders['reorder_rate'] = prod_orders['sum'] / prod_orders['count']"
   ]
  },
  {
   "cell_type": "markdown",
   "id": "7d70a29d-dd0a-4b07-b2cf-c3b9275cc77c",
   "metadata": {},
   "source": [
    "## Customer Behavioural Pattern"
   ]
  },
  {
   "cell_type": "code",
   "execution_count": 6,
   "id": "43debf67-fdeb-433f-a141-e4b1133ae39a",
   "metadata": {},
   "outputs": [],
   "source": [
    "user_features = order.groupby('user_id').agg({\n",
    "    'order_number': 'max'\n",
    "}).rename(columns={'order_number': 'total_orders'})"
   ]
  },
  {
   "cell_type": "markdown",
   "id": "c4759088-b925-4574-8b58-b914281dce0a",
   "metadata": {},
   "source": [
    "## Customer x Product Preparation"
   ]
  },
  {
   "cell_type": "code",
   "execution_count": 8,
   "id": "b47998c2-af4a-4e0e-90c6-eecedcb8fc1b",
   "metadata": {},
   "outputs": [],
   "source": [
    "products_merged = product.merge(aisle, on='aisle_id').merge(department, on='department_id')\n",
    "order_products = prior_order.merge(products_merged, on='product_id')\n",
    "order_data = order_products.merge(order[['order_id', 'user_id', 'order_number', 'order_dow', 'order_hour_of_day']], on='order_id')"
   ]
  },
  {
   "cell_type": "code",
   "execution_count": 9,
   "id": "c8d68a62-5b6d-4589-935d-5efbd3cc308b",
   "metadata": {},
   "outputs": [],
   "source": [
    "user_product = order_data.groupby(['user_id', 'product_id']).agg({\n",
    "    'order_id': 'count',\n",
    "    'reordered': 'sum'\n",
    "}).rename(columns={\n",
    "    'order_id': 'up_order_count',\n",
    "    'reordered': 'up_reorder_count'\n",
    "}).reset_index()\n",
    "\n",
    "user_product['reorder_rate'] = user_product['up_reorder_count'] / user_product['up_order_count']"
   ]
  },
  {
   "cell_type": "markdown",
   "id": "09f8e809-8d91-458d-9095-3bf299d7126b",
   "metadata": {},
   "source": [
    "## Dataset for Training"
   ]
  },
  {
   "cell_type": "code",
   "execution_count": 12,
   "id": "630bff24-d507-4cf8-ba6f-12680bc5df17",
   "metadata": {},
   "outputs": [],
   "source": [
    "# find the last order of each customer (as the training data)\n",
    "last_orders = order[order['eval_set'] == 'train'][['user_id', 'order_id']]\n",
    "train_data = pd.merge(last_orders, order_data, on='user_id')"
   ]
  },
  {
   "cell_type": "markdown",
   "id": "3add94d2-08d7-4b88-b40c-925a3bac93a2",
   "metadata": {},
   "source": [
    "## Combine the features"
   ]
  },
  {
   "cell_type": "code",
   "execution_count": 13,
   "id": "1b61ca8a-08cf-444a-8dce-2878fa312e0f",
   "metadata": {},
   "outputs": [],
   "source": [
    "train_df = train_data.merge(prod_orders, on='product_id', how='left')\n",
    "train_df = train_df.merge(user_features, on='user_id', how='left')\n",
    "train_df = train_df.merge(user_product, on=['user_id', 'product_id'], how='left')"
   ]
  },
  {
   "cell_type": "code",
   "execution_count": 15,
   "id": "d2d40ffb-f1dc-49ad-a5f2-de209e5e5471",
   "metadata": {},
   "outputs": [],
   "source": [
    "train_df.to_csv(\"/Users/yen/Desktop/instacart-reorder-prediction/notebooks/train_df.csv\", index=False)"
   ]
  }
 ],
 "metadata": {
  "kernelspec": {
   "display_name": "Python 3 (ipykernel)",
   "language": "python",
   "name": "python3"
  },
  "language_info": {
   "codemirror_mode": {
    "name": "ipython",
    "version": 3
   },
   "file_extension": ".py",
   "mimetype": "text/x-python",
   "name": "python",
   "nbconvert_exporter": "python",
   "pygments_lexer": "ipython3",
   "version": "3.12.4"
  }
 },
 "nbformat": 4,
 "nbformat_minor": 5
}
