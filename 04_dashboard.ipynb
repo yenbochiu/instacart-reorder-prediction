{
 "cells": [
  {
   "cell_type": "markdown",
   "id": "313e0deb-cc82-42c8-9e34-859436aff474",
   "metadata": {},
   "source": [
    "# Dashboard (SQL & Tableau)"
   ]
  },
  {
   "cell_type": "markdown",
   "id": "ae65dc9c-bc92-484e-893a-120cbd98d1c2",
   "metadata": {},
   "source": [
    "## Import Libraries and Files"
   ]
  },
  {
   "cell_type": "code",
   "execution_count": 9,
   "id": "d1970c90-d740-4d8b-8c55-1f5929a44e5b",
   "metadata": {},
   "outputs": [
    {
     "name": "stdout",
     "output_type": "stream",
     "text": [
      "Requirement already satisfied: duckdb in /opt/anaconda3/lib/python3.12/site-packages (1.3.2)\n",
      "Note: you may need to restart the kernel to use updated packages.\n"
     ]
    }
   ],
   "source": [
    "pip install duckdb"
   ]
  },
  {
   "cell_type": "code",
   "execution_count": 10,
   "id": "b79e35fc-b7c6-4366-9536-4fb1629246b8",
   "metadata": {},
   "outputs": [
    {
     "data": {
      "application/vnd.jupyter.widget-view+json": {
       "model_id": "96286f1910044aadb9fec56d01822969",
       "version_major": 2,
       "version_minor": 0
      },
      "text/plain": [
       "FloatProgress(value=0.0, layout=Layout(width='auto'), style=ProgressStyle(bar_color='black'))"
      ]
     },
     "metadata": {},
     "output_type": "display_data"
    },
    {
     "data": {
      "text/plain": [
       "<duckdb.duckdb.DuckDBPyConnection at 0x16b5c99b0>"
      ]
     },
     "execution_count": 10,
     "metadata": {},
     "output_type": "execute_result"
    }
   ],
   "source": [
    "import duckdb\n",
    "\n",
    "# Load CSV into DuckDB\n",
    "con = duckdb.connect()\n",
    "con.execute(\"CREATE TABLE train_df AS SELECT * FROM read_csv_auto('/Users/yen/Desktop/instacart-reorder-prediction/notebooks/train_df.csv')\")"
   ]
  },
  {
   "cell_type": "markdown",
   "id": "748ebdd4-837b-4b1e-8e85-73832dee579c",
   "metadata": {},
   "source": [
    "## Top20 Department - by order"
   ]
  },
  {
   "cell_type": "code",
   "execution_count": 16,
   "id": "47f88a81-92b1-455c-b06f-8df864a1e573",
   "metadata": {},
   "outputs": [
    {
     "data": {
      "text/html": [
       "<div>\n",
       "<style scoped>\n",
       "    .dataframe tbody tr th:only-of-type {\n",
       "        vertical-align: middle;\n",
       "    }\n",
       "\n",
       "    .dataframe tbody tr th {\n",
       "        vertical-align: top;\n",
       "    }\n",
       "\n",
       "    .dataframe thead th {\n",
       "        text-align: right;\n",
       "    }\n",
       "</style>\n",
       "<table border=\"1\" class=\"dataframe\">\n",
       "  <thead>\n",
       "    <tr style=\"text-align: right;\">\n",
       "      <th></th>\n",
       "      <th>department</th>\n",
       "      <th>total_orders</th>\n",
       "    </tr>\n",
       "  </thead>\n",
       "  <tbody>\n",
       "    <tr>\n",
       "      <th>0</th>\n",
       "      <td>produce</td>\n",
       "      <td>6038459</td>\n",
       "    </tr>\n",
       "    <tr>\n",
       "      <th>1</th>\n",
       "      <td>dairy eggs</td>\n",
       "      <td>3451649</td>\n",
       "    </tr>\n",
       "    <tr>\n",
       "      <th>2</th>\n",
       "      <td>snacks</td>\n",
       "      <td>1830236</td>\n",
       "    </tr>\n",
       "    <tr>\n",
       "      <th>3</th>\n",
       "      <td>beverages</td>\n",
       "      <td>1714607</td>\n",
       "    </tr>\n",
       "    <tr>\n",
       "      <th>4</th>\n",
       "      <td>frozen</td>\n",
       "      <td>1424216</td>\n",
       "    </tr>\n",
       "  </tbody>\n",
       "</table>\n",
       "</div>"
      ],
      "text/plain": [
       "   department  total_orders\n",
       "0     produce       6038459\n",
       "1  dairy eggs       3451649\n",
       "2      snacks       1830236\n",
       "3   beverages       1714607\n",
       "4      frozen       1424216"
      ]
     },
     "execution_count": 16,
     "metadata": {},
     "output_type": "execute_result"
    }
   ],
   "source": [
    "top20_department_order = con.execute(\"\"\"\n",
    "    SELECT \n",
    "        department, \n",
    "        COUNT(*) AS total_orders\n",
    "    FROM train_df\n",
    "    GROUP BY department\n",
    "    ORDER BY total_orders DESC\n",
    "    LIMIT 20\n",
    "\"\"\").df()\n",
    "\n",
    "top20_department_order.head()"
   ]
  },
  {
   "cell_type": "code",
   "execution_count": 20,
   "id": "63d6112b-341f-4c16-9b80-5eb68ef0cb6f",
   "metadata": {},
   "outputs": [],
   "source": [
    "top20_department_order.to_csv(\"/Users/yen/Desktop/instacart-reorder-prediction/notebooks/top20_department_order.csv\", index=False)"
   ]
  },
  {
   "cell_type": "markdown",
   "id": "895e73ef-5fbb-4b52-bddb-7b42f943a44d",
   "metadata": {},
   "source": [
    "## Top20 Department - by reorder rate"
   ]
  },
  {
   "cell_type": "code",
   "execution_count": 17,
   "id": "d0e3c13a-5f13-4085-a0d9-0ebc128abe97",
   "metadata": {},
   "outputs": [
    {
     "data": {
      "text/html": [
       "<div>\n",
       "<style scoped>\n",
       "    .dataframe tbody tr th:only-of-type {\n",
       "        vertical-align: middle;\n",
       "    }\n",
       "\n",
       "    .dataframe tbody tr th {\n",
       "        vertical-align: top;\n",
       "    }\n",
       "\n",
       "    .dataframe thead th {\n",
       "        text-align: right;\n",
       "    }\n",
       "</style>\n",
       "<table border=\"1\" class=\"dataframe\">\n",
       "  <thead>\n",
       "    <tr style=\"text-align: right;\">\n",
       "      <th></th>\n",
       "      <th>department</th>\n",
       "      <th>reorder_rate</th>\n",
       "      <th>total_orders</th>\n",
       "    </tr>\n",
       "  </thead>\n",
       "  <tbody>\n",
       "    <tr>\n",
       "      <th>0</th>\n",
       "      <td>dairy eggs</td>\n",
       "      <td>0.670183</td>\n",
       "      <td>3451649</td>\n",
       "    </tr>\n",
       "    <tr>\n",
       "      <th>1</th>\n",
       "      <td>beverages</td>\n",
       "      <td>0.654107</td>\n",
       "      <td>1714607</td>\n",
       "    </tr>\n",
       "    <tr>\n",
       "      <th>2</th>\n",
       "      <td>produce</td>\n",
       "      <td>0.649622</td>\n",
       "      <td>6038459</td>\n",
       "    </tr>\n",
       "    <tr>\n",
       "      <th>3</th>\n",
       "      <td>bakery</td>\n",
       "      <td>0.627127</td>\n",
       "      <td>747555</td>\n",
       "    </tr>\n",
       "    <tr>\n",
       "      <th>4</th>\n",
       "      <td>deli</td>\n",
       "      <td>0.607713</td>\n",
       "      <td>669536</td>\n",
       "    </tr>\n",
       "  </tbody>\n",
       "</table>\n",
       "</div>"
      ],
      "text/plain": [
       "   department  reorder_rate  total_orders\n",
       "0  dairy eggs      0.670183       3451649\n",
       "1   beverages      0.654107       1714607\n",
       "2     produce      0.649622       6038459\n",
       "3      bakery      0.627127        747555\n",
       "4        deli      0.607713        669536"
      ]
     },
     "execution_count": 17,
     "metadata": {},
     "output_type": "execute_result"
    }
   ],
   "source": [
    "top20_department = con.execute(\"\"\"\n",
    "    SELECT \n",
    "        department,\n",
    "        SUM(reordered)::FLOAT / COUNT(*) AS reorder_rate,\n",
    "        COUNT(*) AS total_orders\n",
    "    FROM train_df\n",
    "    GROUP BY department\n",
    "    ORDER BY reorder_rate DESC\n",
    "    LIMIT 20\n",
    "\"\"\").df()\n",
    "\n",
    "top20_department.head()"
   ]
  },
  {
   "cell_type": "code",
   "execution_count": 21,
   "id": "47406abc-69e7-4575-8f5b-d61f4d0a55cc",
   "metadata": {},
   "outputs": [],
   "source": [
    "top20_department.to_csv(\"/Users/yen/Desktop/instacart-reorder-prediction/notebooks/top20_department.csv\", index=False)"
   ]
  },
  {
   "cell_type": "markdown",
   "id": "7e073ea6-fb2a-4e98-a998-4adf4f8653e2",
   "metadata": {},
   "source": [
    "## Top20 Reordered Product - by reorder rate"
   ]
  },
  {
   "cell_type": "code",
   "execution_count": 13,
   "id": "02419a7b-46a9-49de-91ce-df936cb09ba7",
   "metadata": {},
   "outputs": [
    {
     "data": {
      "text/html": [
       "<div>\n",
       "<style scoped>\n",
       "    .dataframe tbody tr th:only-of-type {\n",
       "        vertical-align: middle;\n",
       "    }\n",
       "\n",
       "    .dataframe tbody tr th {\n",
       "        vertical-align: top;\n",
       "    }\n",
       "\n",
       "    .dataframe thead th {\n",
       "        text-align: right;\n",
       "    }\n",
       "</style>\n",
       "<table border=\"1\" class=\"dataframe\">\n",
       "  <thead>\n",
       "    <tr style=\"text-align: right;\">\n",
       "      <th></th>\n",
       "      <th>product_id</th>\n",
       "      <th>product_name</th>\n",
       "      <th>reorder_rate</th>\n",
       "      <th>total_orders</th>\n",
       "    </tr>\n",
       "  </thead>\n",
       "  <tbody>\n",
       "    <tr>\n",
       "      <th>0</th>\n",
       "      <td>700</td>\n",
       "      <td>Jet Fuel Dark Roast Whole Bean Coffee</td>\n",
       "      <td>0.961538</td>\n",
       "      <td>26</td>\n",
       "    </tr>\n",
       "    <tr>\n",
       "      <th>1</th>\n",
       "      <td>2075</td>\n",
       "      <td>Serenity Ultimate Extrema Overnight Pads</td>\n",
       "      <td>0.960526</td>\n",
       "      <td>76</td>\n",
       "    </tr>\n",
       "    <tr>\n",
       "      <th>2</th>\n",
       "      <td>39992</td>\n",
       "      <td>Energy Shot, Grape Flavor</td>\n",
       "      <td>0.952381</td>\n",
       "      <td>21</td>\n",
       "    </tr>\n",
       "    <tr>\n",
       "      <th>3</th>\n",
       "      <td>27740</td>\n",
       "      <td>Chocolate Love Bar</td>\n",
       "      <td>0.945652</td>\n",
       "      <td>92</td>\n",
       "    </tr>\n",
       "    <tr>\n",
       "      <th>4</th>\n",
       "      <td>14361</td>\n",
       "      <td>Honey Sunflower Butter</td>\n",
       "      <td>0.944444</td>\n",
       "      <td>18</td>\n",
       "    </tr>\n",
       "  </tbody>\n",
       "</table>\n",
       "</div>"
      ],
      "text/plain": [
       "   product_id                              product_name  reorder_rate  \\\n",
       "0         700     Jet Fuel Dark Roast Whole Bean Coffee      0.961538   \n",
       "1        2075  Serenity Ultimate Extrema Overnight Pads      0.960526   \n",
       "2       39992                 Energy Shot, Grape Flavor      0.952381   \n",
       "3       27740                        Chocolate Love Bar      0.945652   \n",
       "4       14361                    Honey Sunflower Butter      0.944444   \n",
       "\n",
       "   total_orders  \n",
       "0            26  \n",
       "1            76  \n",
       "2            21  \n",
       "3            92  \n",
       "4            18  "
      ]
     },
     "execution_count": 13,
     "metadata": {},
     "output_type": "execute_result"
    }
   ],
   "source": [
    "top20_product = con.execute(\"\"\"\n",
    "    SELECT \n",
    "        product_id,\n",
    "        product_name,\n",
    "        SUM(reordered)::FLOAT / COUNT(*) AS reorder_rate,\n",
    "        COUNT(*) AS total_orders\n",
    "    FROM train_df\n",
    "    GROUP BY product_id, product_name\n",
    "    ORDER BY reorder_rate DESC\n",
    "    LIMIT 20\n",
    "\"\"\").df()\n",
    "\n",
    "top20_product.head()"
   ]
  },
  {
   "cell_type": "code",
   "execution_count": 22,
   "id": "cd87863b-ce82-4dcc-a81d-e49e50161fba",
   "metadata": {},
   "outputs": [],
   "source": [
    "top20_product.to_csv(\"/Users/yen/Desktop/instacart-reorder-prediction/notebooks/top20_product.csv\", index=False)"
   ]
  },
  {
   "cell_type": "markdown",
   "id": "68e98056-8e3e-4b95-99cc-d502ae22e5f3",
   "metadata": {},
   "source": [
    "## Peak - hour of day"
   ]
  },
  {
   "cell_type": "code",
   "execution_count": 18,
   "id": "e419e03f-59dc-4c5d-8f06-78858a0443bc",
   "metadata": {},
   "outputs": [
    {
     "name": "stdout",
     "output_type": "stream",
     "text": [
      "    order_hour_of_day  order_count\n",
      "0                   0       141526\n",
      "1                   1        73752\n",
      "2                   2        45161\n",
      "3                   3        33702\n",
      "4                   4        34559\n",
      "5                   5        56754\n",
      "6                   6       185751\n",
      "7                   7       569718\n",
      "8                   8      1092650\n",
      "9                   9      1559997\n",
      "10                 10      1754849\n",
      "11                 11      1740173\n",
      "12                 12      1667360\n",
      "13                 13      1693221\n",
      "14                 14      1709262\n",
      "15                 15      1696152\n",
      "16                 16      1614938\n",
      "17                 17      1332578\n",
      "18                 18      1044301\n",
      "19                 19       808658\n",
      "20                 20       621007\n",
      "21                 21       509382\n",
      "22                 22       401732\n",
      "23                 23       254808\n"
     ]
    }
   ],
   "source": [
    "peak_hour = con.execute(\"\"\"\n",
    "    SELECT \n",
    "        order_hour_of_day,\n",
    "        COUNT(*) AS order_count\n",
    "    FROM train_df\n",
    "    GROUP BY order_hour_of_day\n",
    "    ORDER BY order_hour_of_day\n",
    "\"\"\").df()\n",
    "\n",
    "print(peak_hour)"
   ]
  },
  {
   "cell_type": "code",
   "execution_count": 23,
   "id": "eb93ae91-179d-4a57-b87c-ba44fdc44cc4",
   "metadata": {},
   "outputs": [],
   "source": [
    "peak_hour.to_csv(\"/Users/yen/Desktop/instacart-reorder-prediction/notebooks/peak_hour.csv\", index=False)"
   ]
  },
  {
   "cell_type": "markdown",
   "id": "9aec9518-40f0-4cf5-843a-bc2bbb83aa83",
   "metadata": {},
   "source": [
    "## Peak - day of week"
   ]
  },
  {
   "cell_type": "code",
   "execution_count": 19,
   "id": "78c94e1e-6a9a-4787-850f-dd46b4d5aecc",
   "metadata": {},
   "outputs": [
    {
     "name": "stdout",
     "output_type": "stream",
     "text": [
      "   order_dow  reorder_rate  total_orders\n",
      "0          0      0.584850       3958392\n",
      "1          1      0.603684       3601985\n",
      "2          2      0.589748       2681752\n",
      "3          3      0.585919       2438791\n",
      "4          4      0.591107       2406032\n",
      "5          5      0.595252       2687095\n",
      "6          6      0.573788       2867944\n"
     ]
    }
   ],
   "source": [
    "peak_day = con.execute(\"\"\"\n",
    "    SELECT \n",
    "        order_dow,\n",
    "        SUM(reordered)::FLOAT / COUNT(*) AS reorder_rate,\n",
    "        COUNT(*) AS total_orders\n",
    "    FROM train_df\n",
    "    GROUP BY order_dow\n",
    "    ORDER BY order_dow\n",
    "\"\"\").df()\n",
    "\n",
    "print(peak_day)"
   ]
  },
  {
   "cell_type": "code",
   "execution_count": 24,
   "id": "3c0f8da8-9f0e-429e-8b84-b287af59f965",
   "metadata": {},
   "outputs": [],
   "source": [
    "peak_day.to_csv(\"/Users/yen/Desktop/instacart-reorder-prediction/notebooks/peak_day.csv\", index=False)"
   ]
  },
  {
   "cell_type": "markdown",
   "id": "119d1c6f-b1e0-4b65-8c5c-e2a84df0c753",
   "metadata": {},
   "source": [
    "## Customer Segment"
   ]
  },
  {
   "cell_type": "code",
   "execution_count": null,
   "id": "d56c0098-e3c2-49f7-8518-8d9322169b2b",
   "metadata": {},
   "outputs": [],
   "source": [
    "import pandas as pd\n",
    "train_df = pd.read_csv('/Users/yen/Desktop/instacart-reorder-prediction/notebooks/train_df.csv')\n",
    "user_reorder = train_df.groupby('user_id')['reordered'].mean().reset_index()\n",
    "user_reorder.columns = ['user_id', 'user_reorder_rate']\n",
    "\n",
    "user_reorder.to_csv('/Users/yen/Desktop/instacart-reorder-prediction/notebooks/user_reorder_rate.csv', index=False)"
   ]
  },
  {
   "cell_type": "code",
   "execution_count": null,
   "id": "7434fd51-2def-49cf-a011-c5706ef3967c",
   "metadata": {},
   "outputs": [],
   "source": []
  }
 ],
 "metadata": {
  "kernelspec": {
   "display_name": "Python 3 (ipykernel)",
   "language": "python",
   "name": "python3"
  },
  "language_info": {
   "codemirror_mode": {
    "name": "ipython",
    "version": 3
   },
   "file_extension": ".py",
   "mimetype": "text/x-python",
   "name": "python",
   "nbconvert_exporter": "python",
   "pygments_lexer": "ipython3",
   "version": "3.12.2"
  }
 },
 "nbformat": 4,
 "nbformat_minor": 5
}
